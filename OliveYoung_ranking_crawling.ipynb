{
  "nbformat": 4,
  "nbformat_minor": 0,
  "metadata": {
    "colab": {
      "provenance": [],
      "authorship_tag": "ABX9TyN09xgBRB+uNeYGqeK1pxKY",
      "include_colab_link": true
    },
    "kernelspec": {
      "name": "python3",
      "display_name": "Python 3"
    },
    "language_info": {
      "name": "python"
    }
  },
  "cells": [
    {
      "cell_type": "markdown",
      "metadata": {
        "id": "view-in-github",
        "colab_type": "text"
      },
      "source": [
        "<a href=\"https://colab.research.google.com/github/parknaeeun/OliveYoung/blob/main/OliveYoung_ranking_crawling.ipynb\" target=\"_parent\"><img src=\"https://colab.research.google.com/assets/colab-badge.svg\" alt=\"Open In Colab\"/></a>"
      ]
    },
    {
      "cell_type": "code",
      "execution_count": 1,
      "metadata": {
        "id": "1qXIJpgza11u"
      },
      "outputs": [],
      "source": [
        "from time import sleep\n",
        "import pandas as pd\n",
        "from selenium import webdriver\n",
        "from selenium.webdriver.common.by import By\n",
        "\n",
        "import warnings\n",
        "warnings.filterwarnings('ignore')"
      ]
    },
    {
      "cell_type": "markdown",
      "source": [
        "Data Features\n",
        "- category: 분류\n",
        "- rank: 순위\n",
        "- brand: 브랜드명\n",
        "- item: 제품명\n",
        "- fixed_price: 정가\n",
        "- sale_price: 할인가\n",
        "- promotion: 프로모션"
      ],
      "metadata": {
        "id": "j6Xjlc80vKQx"
      }
    },
    {
      "cell_type": "code",
      "source": [
        "# 코랩에서 셀레니움 사용 시 설치\n",
        "# !pip install selenium\n",
        "# !apt-get update\n",
        "# !apt install chromium-chromedriver\n",
        "# !cp /usr/lib/chromium-browser/chromedriver /usr/bin"
      ],
      "metadata": {
        "id": "YZXKZFX3x1FC"
      },
      "execution_count": 2,
      "outputs": []
    },
    {
      "cell_type": "code",
      "source": [
        "# 드라이버 생성 및 설정\n",
        "options = webdriver.ChromeOptions()\n",
        "options.add_argument('--headless')        # Head-less 설정\n",
        "options.add_argument('--no-sandbox')\n",
        "options.add_argument('--disable-dev-shm-usage')\n",
        "driver = webdriver.Chrome(options=options)"
      ],
      "metadata": {
        "id": "mXBsJCUBvJk-"
      },
      "execution_count": 18,
      "outputs": []
    },
    {
      "cell_type": "code",
      "source": [
        "# 올리브영 홈페이지 접근\n",
        "url = \"https://www.oliveyoung.co.kr/store/main/getBestList.do?dispCatNo=900000100100001&fltDispCatNo=10000030006&pageIdx=1&rowsPerPage=8&t_page=%EB%9E%AD%ED%82%B9&t_click=%ED%8C%90%EB%A7%A4%EB%9E%AD%ED%82%B9_%EC%B7%A8%EB%AF%B8%2F%ED%8C%AC%EC%8B%9C\"\n",
        "driver.get(url)\n",
        "\n",
        "print(driver) # 실행 확인"
      ],
      "metadata": {
        "colab": {
          "base_uri": "https://localhost:8080/"
        },
        "id": "xRyz0D03y0gU",
        "outputId": "bb03be08-07aa-4abc-b560-b8192e5fc483"
      },
      "execution_count": 19,
      "outputs": [
        {
          "output_type": "stream",
          "name": "stdout",
          "text": [
            "<selenium.webdriver.chrome.webdriver.WebDriver (session=\"acd3a5cdebd3832074713694a8b1066c\")>\n"
          ]
        }
      ]
    },
    {
      "cell_type": "code",
      "source": [
        "# 크롤링\n",
        "def ranking_crawling(df):\n",
        "    for c in range(2, 22): #전체 외 20개 카테고리\n",
        "        category = driver.find_element(By.CSS_SELECTOR, f'#Container > div.best-area > div.common-menu > ul > li.on > button').text\n",
        "\n",
        "        print(f'{category} 크롤링 시작')\n",
        "        for i in range(1, 26):\n",
        "            for j in range(1, 5):\n",
        "                rank = (i-1)*4 + j\n",
        "                brand = driver.find_element(By.CSS_SELECTOR, f'#Container > div.best-area > div.TabsConts.on > ul:nth-child({i}) > li:nth-child({j}) > div > div > a > span').text\n",
        "                item = driver.find_element(By.CSS_SELECTOR, f'#Container > div.best-area > div.TabsConts.on > ul:nth-child({i}) > li:nth-child({j}) > div > div > a > p').text\n",
        "                # 정가와 행사가가 동일한 제품에 대한 처리\n",
        "                try:\n",
        "                    fixed_price = driver.find_element(By.CSS_SELECTOR, f'#Container > div.best-area > div.TabsConts.on > ul:nth-child({i}) > li:nth-child({j}) > div > p.prd_price > span.tx_org > span').text\n",
        "                except:\n",
        "                    fixed_price = driver.find_element(By.CSS_SELECTOR, f'#Container > div.best-area > div.TabsConts.on > ul:nth-child({i}) > li:nth-child({j}) > div > p.prd_price > span.tx_cur > span').text\n",
        "                sale_price = driver.find_element(By.CSS_SELECTOR, f'#Container > div.best-area > div.TabsConts.on > ul:nth-child({i}) > li:nth-child({j}) > div > p.prd_price > span.tx_cur > span').text\n",
        "                p_span = driver.find_elements(By.CSS_SELECTOR, f'#Container > div.best-area > div.TabsConts.on > ul:nth-child({i}) > li:nth-child({j}) > div > p.prd_flag > span')\n",
        "                promotion = ([span.text for span in p_span])\n",
        "                df.loc[len(df)] = [category, rank, brand, item, fixed_price, sale_price, promotion]\n",
        "                sleep(2)\n",
        "\n",
        "        print(f'{category} 크롤링 완료')\n",
        "\n",
        "        page_button = driver.find_element(By.CSS_SELECTOR, f'#Container > div.best-area > div.common-menu > ul > li:nth-child({c+1}) > button')\n",
        "        page_button.click()\n",
        "        sleep(2)"
      ],
      "metadata": {
        "id": "OS1H5Ns1zNFo"
      },
      "execution_count": 20,
      "outputs": []
    },
    {
      "cell_type": "code",
      "source": [
        "# 데이터프레임 형성\n",
        "df_top_100 = pd.DataFrame(columns=['category', 'rank', 'brand', 'item', 'fixed_price', 'sale_price', 'promotion'])\n",
        "df_top_100"
      ],
      "metadata": {
        "colab": {
          "base_uri": "https://localhost:8080/",
          "height": 53
        },
        "id": "rmmvucMXwYgj",
        "outputId": "928b7715-3f9c-45b0-8f8b-0bff6117c92a"
      },
      "execution_count": 21,
      "outputs": [
        {
          "output_type": "execute_result",
          "data": {
            "text/plain": [
              "Empty DataFrame\n",
              "Columns: [category, rank, brand, item, fixed_price, sale_price, promotion]\n",
              "Index: []"
            ],
            "text/html": [
              "\n",
              "  <div id=\"df-b8a0b72d-b6b6-4edf-8dc6-131a2390bc3c\" class=\"colab-df-container\">\n",
              "    <div>\n",
              "<style scoped>\n",
              "    .dataframe tbody tr th:only-of-type {\n",
              "        vertical-align: middle;\n",
              "    }\n",
              "\n",
              "    .dataframe tbody tr th {\n",
              "        vertical-align: top;\n",
              "    }\n",
              "\n",
              "    .dataframe thead th {\n",
              "        text-align: right;\n",
              "    }\n",
              "</style>\n",
              "<table border=\"1\" class=\"dataframe\">\n",
              "  <thead>\n",
              "    <tr style=\"text-align: right;\">\n",
              "      <th></th>\n",
              "      <th>category</th>\n",
              "      <th>rank</th>\n",
              "      <th>brand</th>\n",
              "      <th>item</th>\n",
              "      <th>fixed_price</th>\n",
              "      <th>sale_price</th>\n",
              "      <th>promotion</th>\n",
              "    </tr>\n",
              "  </thead>\n",
              "  <tbody>\n",
              "  </tbody>\n",
              "</table>\n",
              "</div>\n",
              "    <div class=\"colab-df-buttons\">\n",
              "\n",
              "  <div class=\"colab-df-container\">\n",
              "    <button class=\"colab-df-convert\" onclick=\"convertToInteractive('df-b8a0b72d-b6b6-4edf-8dc6-131a2390bc3c')\"\n",
              "            title=\"Convert this dataframe to an interactive table.\"\n",
              "            style=\"display:none;\">\n",
              "\n",
              "  <svg xmlns=\"http://www.w3.org/2000/svg\" height=\"24px\" viewBox=\"0 -960 960 960\">\n",
              "    <path d=\"M120-120v-720h720v720H120Zm60-500h600v-160H180v160Zm220 220h160v-160H400v160Zm0 220h160v-160H400v160ZM180-400h160v-160H180v160Zm440 0h160v-160H620v160ZM180-180h160v-160H180v160Zm440 0h160v-160H620v160Z\"/>\n",
              "  </svg>\n",
              "    </button>\n",
              "\n",
              "  <style>\n",
              "    .colab-df-container {\n",
              "      display:flex;\n",
              "      gap: 12px;\n",
              "    }\n",
              "\n",
              "    .colab-df-convert {\n",
              "      background-color: #E8F0FE;\n",
              "      border: none;\n",
              "      border-radius: 50%;\n",
              "      cursor: pointer;\n",
              "      display: none;\n",
              "      fill: #1967D2;\n",
              "      height: 32px;\n",
              "      padding: 0 0 0 0;\n",
              "      width: 32px;\n",
              "    }\n",
              "\n",
              "    .colab-df-convert:hover {\n",
              "      background-color: #E2EBFA;\n",
              "      box-shadow: 0px 1px 2px rgba(60, 64, 67, 0.3), 0px 1px 3px 1px rgba(60, 64, 67, 0.15);\n",
              "      fill: #174EA6;\n",
              "    }\n",
              "\n",
              "    .colab-df-buttons div {\n",
              "      margin-bottom: 4px;\n",
              "    }\n",
              "\n",
              "    [theme=dark] .colab-df-convert {\n",
              "      background-color: #3B4455;\n",
              "      fill: #D2E3FC;\n",
              "    }\n",
              "\n",
              "    [theme=dark] .colab-df-convert:hover {\n",
              "      background-color: #434B5C;\n",
              "      box-shadow: 0px 1px 3px 1px rgba(0, 0, 0, 0.15);\n",
              "      filter: drop-shadow(0px 1px 2px rgba(0, 0, 0, 0.3));\n",
              "      fill: #FFFFFF;\n",
              "    }\n",
              "  </style>\n",
              "\n",
              "    <script>\n",
              "      const buttonEl =\n",
              "        document.querySelector('#df-b8a0b72d-b6b6-4edf-8dc6-131a2390bc3c button.colab-df-convert');\n",
              "      buttonEl.style.display =\n",
              "        google.colab.kernel.accessAllowed ? 'block' : 'none';\n",
              "\n",
              "      async function convertToInteractive(key) {\n",
              "        const element = document.querySelector('#df-b8a0b72d-b6b6-4edf-8dc6-131a2390bc3c');\n",
              "        const dataTable =\n",
              "          await google.colab.kernel.invokeFunction('convertToInteractive',\n",
              "                                                    [key], {});\n",
              "        if (!dataTable) return;\n",
              "\n",
              "        const docLinkHtml = 'Like what you see? Visit the ' +\n",
              "          '<a target=\"_blank\" href=https://colab.research.google.com/notebooks/data_table.ipynb>data table notebook</a>'\n",
              "          + ' to learn more about interactive tables.';\n",
              "        element.innerHTML = '';\n",
              "        dataTable['output_type'] = 'display_data';\n",
              "        await google.colab.output.renderOutput(dataTable, element);\n",
              "        const docLink = document.createElement('div');\n",
              "        docLink.innerHTML = docLinkHtml;\n",
              "        element.appendChild(docLink);\n",
              "      }\n",
              "    </script>\n",
              "  </div>\n",
              "\n",
              "    </div>\n",
              "  </div>\n"
            ],
            "application/vnd.google.colaboratory.intrinsic+json": {
              "type": "dataframe",
              "variable_name": "df_top_100_fancy",
              "repr_error": "Out of range float values are not JSON compliant: nan"
            }
          },
          "metadata": {},
          "execution_count": 21
        }
      ]
    },
    {
      "cell_type": "code",
      "source": [
        "ranking_crawling(df_top_100)\n",
        "print(df_top_100)\n",
        "\n",
        "driver.quit()"
      ],
      "metadata": {
        "id": "HCU-OCXC8DyF"
      },
      "execution_count": null,
      "outputs": []
    },
    {
      "cell_type": "code",
      "source": [
        "df_top_100.to_csv('OliveYoung_top100.csv', index=False)"
      ],
      "metadata": {
        "id": "pl5QfgdBC9xx"
      },
      "execution_count": 23,
      "outputs": []
    },
    {
      "cell_type": "code",
      "source": [],
      "metadata": {
        "id": "y7UUDHhBfcTD"
      },
      "execution_count": null,
      "outputs": []
    }
  ]
}